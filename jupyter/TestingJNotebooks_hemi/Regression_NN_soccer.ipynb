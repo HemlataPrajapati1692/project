{
  "nbformat": 4,
  "nbformat_minor": 0,
  "metadata": {
    "colab": {
      "name": "Regression_NN_soccer.ipynb",
      "provenance": [],
      "collapsed_sections": []
    },
    "kernelspec": {
      "name": "python3",
      "display_name": "Python 3"
    }
  },
  "cells": [
    {
      "cell_type": "code",
      "metadata": {
        "id": "Y3x41jfjwGDx",
        "colab_type": "code",
        "colab": {}
      },
      "source": [
        "import pandas as pd\n",
        "import numpy as np\n",
        "import tensorflow as tf\n"
      ],
      "execution_count": 0,
      "outputs": []
    },
    {
      "cell_type": "code",
      "metadata": {
        "id": "pHOSoxkrwa2Y",
        "colab_type": "code",
        "colab": {}
      },
      "source": [
        "dataset=pd.read_csv('sliding02_goals.csv')\n",
        "y= dataset.iloc[:,1:3].values\n",
        "X= dataset.iloc[:,3:].values\n"
      ],
      "execution_count": 0,
      "outputs": []
    },
    {
      "cell_type": "code",
      "metadata": {
        "id": "B424eAkQycDE",
        "colab_type": "code",
        "colab": {}
      },
      "source": [
        "from sklearn.model_selection import train_test_split\n",
        "X_train,X_test,y_train,y_test= train_test_split(X,y,test_size=0.2, random_state=0)"
      ],
      "execution_count": 0,
      "outputs": []
    },
    {
      "cell_type": "code",
      "metadata": {
        "id": "ajfbmZ3xxrrq",
        "colab_type": "code",
        "colab": {}
      },
      "source": [
        "from sklearn.preprocessing import StandardScaler\n",
        "sc= StandardScaler()\n",
        "X_train= sc.fit_transform(X_train)\n",
        "X_test= sc.fit_transform(X_test)"
      ],
      "execution_count": 0,
      "outputs": []
    },
    {
      "cell_type": "code",
      "metadata": {
        "id": "609pddVHy_V1",
        "colab_type": "code",
        "colab": {}
      },
      "source": [
        "ann= tf.keras.models.Sequential()\n",
        "ann.add(tf.keras.layers.Dense(units=6, activation='relu'))\n",
        "ann.add(tf.keras.layers.Dense(units=6,activation='relu'))\n",
        "ann.add(tf.keras.layers.Dense(units=6, activation='relu'))\n",
        "ann.add(tf.keras.layers.Dense(units=2))"
      ],
      "execution_count": 0,
      "outputs": []
    },
    {
      "cell_type": "code",
      "metadata": {
        "id": "fkTrTl0l00Qw",
        "colab_type": "code",
        "colab": {}
      },
      "source": [
        "ann.compile(optimizer='adam',loss='mean_squared_error',metrics=[tf.keras.metrics.RootMeanSquaredError()])"
      ],
      "execution_count": 0,
      "outputs": []
    },
    {
      "cell_type": "code",
      "metadata": {
        "id": "8_lOE0P214Ra",
        "colab_type": "code",
        "colab": {
          "base_uri": "https://localhost:8080/",
          "height": 714
        },
        "outputId": "d9fd0526-68eb-4fd8-f9a0-03ba5f348dec"
      },
      "source": [
        "ann.fit(X_train,y_train,batch_size=32,epochs=20)"
      ],
      "execution_count": 15,
      "outputs": [
        {
          "output_type": "stream",
          "text": [
            "Epoch 1/20\n",
            "176/176 [==============================] - 0s 1ms/step - loss: 2.2914 - root_mean_squared_error: 1.5137\n",
            "Epoch 2/20\n",
            "176/176 [==============================] - 0s 1ms/step - loss: 1.5421 - root_mean_squared_error: 1.2418\n",
            "Epoch 3/20\n",
            "176/176 [==============================] - 0s 1ms/step - loss: 1.4422 - root_mean_squared_error: 1.2009\n",
            "Epoch 4/20\n",
            "176/176 [==============================] - 0s 1ms/step - loss: 1.4017 - root_mean_squared_error: 1.1840\n",
            "Epoch 5/20\n",
            "176/176 [==============================] - 0s 1ms/step - loss: 1.3787 - root_mean_squared_error: 1.1742\n",
            "Epoch 6/20\n",
            "176/176 [==============================] - 0s 1ms/step - loss: 1.3656 - root_mean_squared_error: 1.1686\n",
            "Epoch 7/20\n",
            "176/176 [==============================] - 0s 1ms/step - loss: 1.3567 - root_mean_squared_error: 1.1648\n",
            "Epoch 8/20\n",
            "176/176 [==============================] - 0s 1ms/step - loss: 1.3522 - root_mean_squared_error: 1.1628\n",
            "Epoch 9/20\n",
            "176/176 [==============================] - 0s 1ms/step - loss: 1.3466 - root_mean_squared_error: 1.1604\n",
            "Epoch 10/20\n",
            "176/176 [==============================] - 0s 1ms/step - loss: 1.3432 - root_mean_squared_error: 1.1590\n",
            "Epoch 11/20\n",
            "176/176 [==============================] - 0s 1ms/step - loss: 1.3409 - root_mean_squared_error: 1.1580\n",
            "Epoch 12/20\n",
            "176/176 [==============================] - 0s 1ms/step - loss: 1.3386 - root_mean_squared_error: 1.1570\n",
            "Epoch 13/20\n",
            "176/176 [==============================] - 0s 1ms/step - loss: 1.3363 - root_mean_squared_error: 1.1560\n",
            "Epoch 14/20\n",
            "176/176 [==============================] - 0s 1ms/step - loss: 1.3357 - root_mean_squared_error: 1.1557\n",
            "Epoch 15/20\n",
            "176/176 [==============================] - 0s 1ms/step - loss: 1.3334 - root_mean_squared_error: 1.1547\n",
            "Epoch 16/20\n",
            "176/176 [==============================] - 0s 1ms/step - loss: 1.3313 - root_mean_squared_error: 1.1538\n",
            "Epoch 17/20\n",
            "176/176 [==============================] - 0s 1ms/step - loss: 1.3302 - root_mean_squared_error: 1.1533\n",
            "Epoch 18/20\n",
            "176/176 [==============================] - 0s 1ms/step - loss: 1.3274 - root_mean_squared_error: 1.1521\n",
            "Epoch 19/20\n",
            "176/176 [==============================] - 0s 1ms/step - loss: 1.3272 - root_mean_squared_error: 1.1520\n",
            "Epoch 20/20\n",
            "176/176 [==============================] - 0s 1ms/step - loss: 1.3260 - root_mean_squared_error: 1.1515\n"
          ],
          "name": "stdout"
        },
        {
          "output_type": "execute_result",
          "data": {
            "text/plain": [
              "<tensorflow.python.keras.callbacks.History at 0x7efc11087550>"
            ]
          },
          "metadata": {
            "tags": []
          },
          "execution_count": 15
        }
      ]
    },
    {
      "cell_type": "code",
      "metadata": {
        "id": "C0TqB82S2NuR",
        "colab_type": "code",
        "colab": {}
      },
      "source": [
        "y_pred= ann.predict(X_test)"
      ],
      "execution_count": 0,
      "outputs": []
    },
    {
      "cell_type": "code",
      "metadata": {
        "id": "R7K1WB6u2Vs3",
        "colab_type": "code",
        "colab": {
          "base_uri": "https://localhost:8080/",
          "height": 136
        },
        "outputId": "fbcb141b-b93b-4404-f9e0-c7984d0a944d"
      },
      "source": [
        "np.set_printoptions(precision=2)\n",
        "print(np.concatenate((y_pred.reshape(len(y_pred),2),y_test.reshape(len(y_test),2)),1))"
      ],
      "execution_count": 17,
      "outputs": [
        {
          "output_type": "stream",
          "text": [
            "[[2.04 1.06 2.   3.  ]\n",
            " [1.22 1.57 2.   2.  ]\n",
            " [1.71 0.86 2.   2.  ]\n",
            " ...\n",
            " [1.58 1.16 1.   2.  ]\n",
            " [1.6  1.1  2.   0.  ]\n",
            " [1.56 0.99 1.   3.  ]]\n"
          ],
          "name": "stdout"
        }
      ]
    }
  ]
}