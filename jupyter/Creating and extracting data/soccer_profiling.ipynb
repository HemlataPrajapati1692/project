{
 "cells": [
  {
   "cell_type": "code",
   "execution_count": 9,
   "metadata": {},
   "outputs": [
    {
     "data": {
      "text/plain": [
       "name    object\n",
       "dtype: object"
      ]
     },
     "execution_count": 9,
     "metadata": {},
     "output_type": "execute_result"
    }
   ],
   "source": [
    "from pandas.io import sql\n",
    "import sqlite3\n",
    "import numpy as np\n",
    "import pandas as pd\n",
    "import pandas_profiling\n",
    "\n",
    "conn = sqlite3.connect('../data/eusoccerdatabase.sqlite')\n",
    "query=\"\"\"\n",
    "    SELECT \n",
    "        name\n",
    "    FROM \n",
    "        sqlite_master \n",
    "    WHERE \n",
    "        type ='table' AND \n",
    "        name NOT LIKE 'sqlite_%';\n",
    "    \"\"\"\n",
    "df_tables            = sql.read_sql(query, con=conn)\n",
    "#print(type(df_tables))\n",
    "#df_tables.dtypes\n",
    "\n",
    "df_player_attributes = sql.read_sql(\"SELECT * FROM Player_Attributes\", con=conn)\n",
    "df_player            = sql.read_sql(\"SELECT * FROM Player\", con=conn)\n",
    "df_match             = sql.read_sql(\"SELECT * FROM Match\", con=conn)\n",
    "df_league            = sql.read_sql(\"SELECT * FROM League\", con=conn)\n",
    "df_country           = sql.read_sql(\"SELECT * FROM Country\", con=conn)\n",
    "df_team_attributes   = sql.read_sql(\"SELECT * FROM Team_Attributes\", con=conn)\n",
    "df_team              = sql.read_sql(\"SELECT * FROM Team\", con=conn)\n",
    "df_tables.dtypes"
   ]
  },
  {
   "cell_type": "code",
   "execution_count": 2,
   "metadata": {},
   "outputs": [],
   "source": [
    "df_player_attributes.profile_report(style={'full_width':True}).to_file(output_file=\"player_attributes.html\")"
   ]
  },
  {
   "cell_type": "code",
   "execution_count": 4,
   "metadata": {},
   "outputs": [],
   "source": [
    "df_player.profile_report(style={'full_width':True}).to_file(output_file=\"player.html\")"
   ]
  },
  {
   "cell_type": "code",
   "execution_count": 5,
   "metadata": {},
   "outputs": [],
   "source": [
    "df_match.profile_report(style={'full_width':True}).to_file(output_file=\"match.html\")"
   ]
  },
  {
   "cell_type": "code",
   "execution_count": 6,
   "metadata": {},
   "outputs": [],
   "source": [
    "df_league.profile_report(style={'full_width':True}).to_file(output_file=\"league.html\")"
   ]
  },
  {
   "cell_type": "code",
   "execution_count": 7,
   "metadata": {},
   "outputs": [],
   "source": [
    "df_country.profile_report(style={'full_width':True}).to_file(output_file=\"country.html\")"
   ]
  },
  {
   "cell_type": "code",
   "execution_count": 8,
   "metadata": {},
   "outputs": [],
   "source": [
    "df_team_attributes.profile_report(style={'full_width':True}).to_file(output_file=\"team_attributes.html\")"
   ]
  },
  {
   "cell_type": "code",
   "execution_count": 12,
   "metadata": {},
   "outputs": [],
   "source": [
    "df_team.profile_report(style={'full_width':True}).to_file(output_file=\"team.html\")"
   ]
  }
 ],
 "metadata": {
  "kernelspec": {
   "display_name": "Python 3",
   "language": "python",
   "name": "python3"
  },
  "language_info": {
   "codemirror_mode": {
    "name": "ipython",
    "version": 3
   },
   "file_extension": ".py",
   "mimetype": "text/x-python",
   "name": "python",
   "nbconvert_exporter": "python",
   "pygments_lexer": "ipython3",
   "version": "3.7.4"
  }
 },
 "nbformat": 4,
 "nbformat_minor": 2
}
