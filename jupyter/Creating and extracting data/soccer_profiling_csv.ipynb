{
 "cells": [
  {
   "cell_type": "code",
   "execution_count": 17,
   "metadata": {},
   "outputs": [],
   "source": [
    "import numpy as np\n",
    "import pandas as pd\n",
    "import pandas_profiling\n",
    "\n",
    "df_match_2014_2016 = pd.read_csv('../data/Match_2014_2016.csv')\n",
    "df_match_bundesliga_matches_2014_until_2016 = pd.read_csv('../data/match_bundesliga_matches_2014_until_2016.csv', delimiter='|')\n",
    "df_team_attributes_bundesliga_2014_until_2016 = pd.read_csv('../data/team_attributes_bundesliga_2014_until_2016.csv', delimiter='|')\n",
    "df_team_bl_2014_2016 = pd.read_csv('../data/Team_BL_2014_2016.csv', delimiter =',')\n",
    "df_team_bundesliga_2014_until_2016 = pd.read_csv('../data/team_bundesliga_2014_until_2016.csv', delimiter = '|')"
   ]
  },
  {
   "cell_type": "code",
   "execution_count": 18,
   "metadata": {},
   "outputs": [],
   "source": [
    "df_match_2014_2016.profile_report(style={'full_width':True}).to_file(output_file=\"../data/profiling_from_csv/match_2014_2016.html\")"
   ]
  },
  {
   "cell_type": "code",
   "execution_count": 20,
   "metadata": {},
   "outputs": [],
   "source": [
    "df_match_bundesliga_matches_2014_until_2016.profile_report(style={'full_width':True}).to_file(output_file=\"../data/profiling_from_csv/match_bundesliga_matches_2014_until_2016.html\")"
   ]
  },
  {
   "cell_type": "code",
   "execution_count": 21,
   "metadata": {},
   "outputs": [],
   "source": [
    "df_team_attributes_bundesliga_2014_until_2016.profile_report(style={'full_width':True}).to_file(output_file=\"../data/profiling_from_csv/team_attributes_bundesliga_2014_until_2016.html\")"
   ]
  },
  {
   "cell_type": "code",
   "execution_count": 22,
   "metadata": {},
   "outputs": [],
   "source": [
    "df_team_bl_2014_2016.profile_report(style={'full_width':True}).to_file(output_file=\"../data/profiling_from_csv/team_bl_2014_2016.html\")"
   ]
  },
  {
   "cell_type": "code",
   "execution_count": 23,
   "metadata": {},
   "outputs": [],
   "source": [
    "df_team_bundesliga_2014_until_2016.profile_report(style={'full_width':True}).to_file(output_file=\"../data/profiling_from_csv/df_team_bundesliga_2014_until_2016.html\")"
   ]
  }
 ],
 "metadata": {
  "kernelspec": {
   "display_name": "Python 3",
   "language": "python",
   "name": "python3"
  },
  "language_info": {
   "codemirror_mode": {
    "name": "ipython",
    "version": 3
   },
   "file_extension": ".py",
   "mimetype": "text/x-python",
   "name": "python",
   "nbconvert_exporter": "python",
   "pygments_lexer": "ipython3",
   "version": "3.7.4"
  }
 },
 "nbformat": 4,
 "nbformat_minor": 2
}
