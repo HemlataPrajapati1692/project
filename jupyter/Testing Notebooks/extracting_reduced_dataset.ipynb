{
 "cells": [
  {
   "cell_type": "code",
   "execution_count": 1,
   "metadata": {},
   "outputs": [],
   "source": [
    "import pandas as pd"
   ]
  },
  {
   "cell_type": "markdown",
   "metadata": {},
   "source": [
    "SELECT * FROM Match WHERE league_id = 7809 AND (season = '2014/2015' OR season = '2015/2016');"
   ]
  },
  {
   "cell_type": "code",
   "execution_count": 2,
   "metadata": {
    "scrolled": true
   },
   "outputs": [
    {
     "data": {
      "text/plain": [
       "id              int64\n",
       "country_id      int64\n",
       "league_id       int64\n",
       "season         object\n",
       "stage           int64\n",
       "               ...   \n",
       "GBD           float64\n",
       "GBA           float64\n",
       "BSH           float64\n",
       "BSD           float64\n",
       "BSA           float64\n",
       "Length: 115, dtype: object"
      ]
     },
     "execution_count": 2,
     "metadata": {},
     "output_type": "execute_result"
    }
   ],
   "source": [
    "df_matches_bl_2014_to_2016 = pd.read_csv('../data/match_bundesliga_matches_2014_until_2016.csv', sep='|', encoding='utf-8')\n",
    "\n",
    "df_matches_bl_2014_to_2016.dtypes"
   ]
  },
  {
   "cell_type": "code",
   "execution_count": 3,
   "metadata": {
    "scrolled": true
   },
   "outputs": [
    {
     "name": "stdout",
     "output_type": "stream",
     "text": [
      "        id  country_id  league_id     season  stage                 date  \\\n",
      "0     9645        7809       7809  2014/2015      1  2014-08-22 00:00:00   \n",
      "1     9646        7809       7809  2014/2015      1  2014-08-23 00:00:00   \n",
      "2     9647        7809       7809  2014/2015      1  2014-08-24 00:00:00   \n",
      "3     9648        7809       7809  2014/2015      1  2014-08-23 00:00:00   \n",
      "4     9649        7809       7809  2014/2015      1  2014-08-23 00:00:00   \n",
      "..     ...         ...        ...        ...    ...                  ...   \n",
      "607  10252        7809       7809  2015/2016      9  2015-10-17 00:00:00   \n",
      "608  10253        7809       7809  2015/2016      9  2015-10-17 00:00:00   \n",
      "609  10254        7809       7809  2015/2016      9  2015-10-17 00:00:00   \n",
      "610  10255        7809       7809  2015/2016      9  2015-10-18 00:00:00   \n",
      "611  10256        7809       7809  2015/2016      9  2015-10-16 00:00:00   \n",
      "\n",
      "     match_api_id  home_team_api_id  away_team_api_id  home_team_goal  ...  \\\n",
      "0         1732658              9823              8721               2  ...   \n",
      "1         1732668              9789              8178               0  ...   \n",
      "2         1732669              9788             10269               1  ...   \n",
      "3         1732670              8226              8406               2  ...   \n",
      "4         1732671              9904             10189               2  ...   \n",
      "..            ...               ...               ...             ...  ...   \n",
      "607       2002168              8406              8262               0  ...   \n",
      "608       2002169              8697              9823               0  ...   \n",
      "609       2002170              9810              9788               1  ...   \n",
      "610       2002171              8722              9904               0  ...   \n",
      "611       2002172              9905              9789               0  ...   \n",
      "\n",
      "      SJA    VCH   VCD    VCA  GBH  GBD  GBA  BSH  BSD  BSA  \n",
      "0    9.00   1.29  6.00  12.00  NaN  NaN  NaN  NaN  NaN  NaN  \n",
      "1    5.25   1.65  4.00   6.00  NaN  NaN  NaN  NaN  NaN  NaN  \n",
      "2    3.80   1.95  3.60   4.20  NaN  NaN  NaN  NaN  NaN  NaN  \n",
      "3    3.75   2.00  3.75   3.75  NaN  NaN  NaN  NaN  NaN  NaN  \n",
      "4    2.30   3.20  3.50   2.38  NaN  NaN  NaN  NaN  NaN  NaN  \n",
      "..    ...    ...   ...    ...  ...  ...  ...  ...  ...  ...  \n",
      "607   NaN   1.80  3.75   4.60  NaN  NaN  NaN  NaN  NaN  NaN  \n",
      "608   NaN  13.00  7.50   1.20  NaN  NaN  NaN  NaN  NaN  NaN  \n",
      "609   NaN   2.30  3.60   3.10  NaN  NaN  NaN  NaN  NaN  NaN  \n",
      "610   NaN   1.93  3.60   4.10  NaN  NaN  NaN  NaN  NaN  NaN  \n",
      "611   NaN   5.75  4.75   1.53  NaN  NaN  NaN  NaN  NaN  NaN  \n",
      "\n",
      "[612 rows x 115 columns]\n"
     ]
    }
   ],
   "source": [
    "print(df_matches_bl_2014_to_2016)"
   ]
  },
  {
   "cell_type": "markdown",
   "metadata": {},
   "source": [
    "SELECT * FROM Team WHERE team_api_id IN (\n",
    "SELECT DISTINCT home_team_api_id FROM Match WHERE league_id = 7809 AND (season = '2014/2015' OR season = '2015/2016')\n",
    "UNION\n",
    "SELECT DISTINCT away_team_api_id FROM Match WHERE league_id = 7809 AND (season = '2014/2015' OR season = '2015/2016'));"
   ]
  },
  {
   "cell_type": "code",
   "execution_count": 4,
   "metadata": {},
   "outputs": [
    {
     "data": {
      "text/plain": [
       "id                   int64\n",
       "team_api_id          int64\n",
       "team_fifa_api_id     int64\n",
       "team_long_name      object\n",
       "team_short_name     object\n",
       "dtype: object"
      ]
     },
     "execution_count": 4,
     "metadata": {},
     "output_type": "execute_result"
    }
   ],
   "source": [
    "df_team_bl_2014_to_2016 = pd.read_csv('../data/team_bundesliga_2014_until_2016.csv', sep='|', encoding='utf-8')\n",
    "\n",
    "df_team_bl_2014_to_2016.dtypes"
   ]
  },
  {
   "cell_type": "code",
   "execution_count": 5,
   "metadata": {
    "scrolled": false
   },
   "outputs": [
    {
     "name": "stdout",
     "output_type": "stream",
     "text": [
      "       id  team_api_id  team_fifa_api_id            team_long_name  \\\n",
      "0   15617         9823                21          FC Bayern Munich   \n",
      "1   15618         9790                28              Hamburger SV   \n",
      "2   15619         8178                32       Bayer 04 Leverkusen   \n",
      "3   15620         9789                22         Borussia Dortmund   \n",
      "4   15621        10189                34             FC Schalke 04   \n",
      "5   15622         9904               485               Hannover 96   \n",
      "6   15623         8721               175             VfL Wolfsburg   \n",
      "7   15624         8722                31                1. FC Köln   \n",
      "8   15625         9810              1824       Eintracht Frankfurt   \n",
      "9   15626         8177               166         Hertha BSC Berlin   \n",
      "10  15628         8697                38          SV Werder Bremen   \n",
      "11  15630         8226             10029       TSG 1899 Hoffenheim   \n",
      "12  15631         9788                23  Borussia Mönchengladbach   \n",
      "13  15632        10269                36             VfB Stuttgart   \n",
      "14  16237         8358                25               SC Freiburg   \n",
      "15  16243         9905               169           1. FSV Mainz 05   \n",
      "16  17465         8406            100409               FC Augsburg   \n",
      "17  19305         8460             10030           SC Paderborn 07   \n",
      "18  19916         8234            111239          FC Ingolstadt 04   \n",
      "19  19917         8262            110502           SV Darmstadt 98   \n",
      "\n",
      "   team_short_name  \n",
      "0              BMU  \n",
      "1              HAM  \n",
      "2              LEV  \n",
      "3              DOR  \n",
      "4              S04  \n",
      "5              HAN  \n",
      "6              WOL  \n",
      "7              FCK  \n",
      "8              EFR  \n",
      "9              HBE  \n",
      "10             WBR  \n",
      "11             HOF  \n",
      "12             GLA  \n",
      "13             STU  \n",
      "14             FRE  \n",
      "15             MAI  \n",
      "16             AUG  \n",
      "17             PAD  \n",
      "18             ING  \n",
      "19             DAR  \n"
     ]
    }
   ],
   "source": [
    "print(df_team_bl_2014_to_2016)"
   ]
  },
  {
   "cell_type": "markdown",
   "metadata": {},
   "source": [
    "SELECT * FROM Team_Attributes WHERE team_api_id IN (\n",
    "SELECT DISTINCT home_team_api_id FROM Match WHERE league_id = 7809 AND (season = '2014/2015' OR season = '2015/2016')\n",
    "UNION\n",
    "SELECT DISTINCT away_team_api_id FROM Match WHERE league_id = 7809 AND (season = '2014/2015' OR season = '2015/2016'));"
   ]
  },
  {
   "cell_type": "code",
   "execution_count": 6,
   "metadata": {
    "scrolled": true
   },
   "outputs": [
    {
     "data": {
      "text/plain": [
       "id                                  int64\n",
       "team_fifa_api_id                    int64\n",
       "team_api_id                         int64\n",
       "date                               object\n",
       "buildUpPlaySpeed                    int64\n",
       "buildUpPlaySpeedClass              object\n",
       "buildUpPlayDribbling              float64\n",
       "buildUpPlayDribblingClass          object\n",
       "buildUpPlayPassing                  int64\n",
       "buildUpPlayPassingClass            object\n",
       "buildUpPlayPositioningClass        object\n",
       "chanceCreationPassing               int64\n",
       "chanceCreationPassingClass         object\n",
       "chanceCreationCrossing              int64\n",
       "chanceCreationCrossingClass        object\n",
       "chanceCreationShooting              int64\n",
       "chanceCreationShootingClass        object\n",
       "chanceCreationPositioningClass     object\n",
       "defencePressure                     int64\n",
       "defencePressureClass               object\n",
       "defenceAggression                   int64\n",
       "defenceAggressionClass             object\n",
       "defenceTeamWidth                    int64\n",
       "defenceTeamWidthClass              object\n",
       "defenceDefenderLineClass           object\n",
       "dtype: object"
      ]
     },
     "execution_count": 6,
     "metadata": {},
     "output_type": "execute_result"
    }
   ],
   "source": [
    "df_team_attributes_bl_2014_to_2016 = pd.read_csv('../data/team_attributes_bundesliga_2014_until_2016.csv', sep='|', encoding='utf-8')\n",
    "\n",
    "df_team_attributes_bl_2014_to_2016.dtypes"
   ]
  },
  {
   "cell_type": "code",
   "execution_count": 7,
   "metadata": {
    "scrolled": true
   },
   "outputs": [
    {
     "name": "stdout",
     "output_type": "stream",
     "text": [
      "       id  team_fifa_api_id  team_api_id                 date  \\\n",
      "0     101            100409         8406  2010-02-22 00:00:00   \n",
      "1     102            100409         8406  2011-02-22 00:00:00   \n",
      "2     103            100409         8406  2012-02-22 00:00:00   \n",
      "3     104            100409         8406  2013-09-20 00:00:00   \n",
      "4     105            100409         8406  2014-09-19 00:00:00   \n",
      "..    ...               ...          ...                  ...   \n",
      "109  1416               175         8721  2011-02-22 00:00:00   \n",
      "110  1417               175         8721  2012-02-22 00:00:00   \n",
      "111  1418               175         8721  2013-09-20 00:00:00   \n",
      "112  1419               175         8721  2014-09-19 00:00:00   \n",
      "113  1420               175         8721  2015-09-10 00:00:00   \n",
      "\n",
      "     buildUpPlaySpeed buildUpPlaySpeedClass  buildUpPlayDribbling  \\\n",
      "0                  45              Balanced                   NaN   \n",
      "1                  68                  Fast                   NaN   \n",
      "2                  55              Balanced                   NaN   \n",
      "3                  40              Balanced                   NaN   \n",
      "4                  62              Balanced                  38.0   \n",
      "..                ...                   ...                   ...   \n",
      "109                65              Balanced                   NaN   \n",
      "110                54              Balanced                   NaN   \n",
      "111                58              Balanced                   NaN   \n",
      "112                58              Balanced                  67.0   \n",
      "113                68                  Fast                  45.0   \n",
      "\n",
      "    buildUpPlayDribblingClass  buildUpPlayPassing buildUpPlayPassingClass  \\\n",
      "0                      Little                  45                   Mixed   \n",
      "1                      Little                  40                   Mixed   \n",
      "2                      Little                  55                   Mixed   \n",
      "3                      Little                  55                   Mixed   \n",
      "4                      Normal                  69                    Long   \n",
      "..                        ...                 ...                     ...   \n",
      "109                    Little                  45                   Mixed   \n",
      "110                    Little                  59                   Mixed   \n",
      "111                    Little                  57                   Mixed   \n",
      "112                      Lots                  45                   Mixed   \n",
      "113                    Normal                  57                   Mixed   \n",
      "\n",
      "     ... chanceCreationShooting  chanceCreationShootingClass  \\\n",
      "0    ...                     70                         Lots   \n",
      "1    ...                     72                         Lots   \n",
      "2    ...                     55                       Normal   \n",
      "3    ...                     53                       Normal   \n",
      "4    ...                     56                       Normal   \n",
      "..   ...                    ...                          ...   \n",
      "109  ...                     51                       Normal   \n",
      "110  ...                     48                       Normal   \n",
      "111  ...                     70                         Lots   \n",
      "112  ...                     54                       Normal   \n",
      "113  ...                     50                       Normal   \n",
      "\n",
      "    chanceCreationPositioningClass  defencePressure defencePressureClass  \\\n",
      "0                        Organised               45               Medium   \n",
      "1                        Organised               59               Medium   \n",
      "2                        Organised               47               Medium   \n",
      "3                        Organised               33                 Deep   \n",
      "4                        Organised               47               Medium   \n",
      "..                             ...              ...                  ...   \n",
      "109                      Organised               58               Medium   \n",
      "110                      Organised               38               Medium   \n",
      "111                      Organised               64               Medium   \n",
      "112                      Organised               59               Medium   \n",
      "113                      Organised               66               Medium   \n",
      "\n",
      "     defenceAggression defenceAggressionClass defenceTeamWidth  \\\n",
      "0                   55                  Press               45   \n",
      "1                   49                  Press               42   \n",
      "2                   58                  Press               56   \n",
      "3                   43                  Press               52   \n",
      "4                   55                  Press               52   \n",
      "..                 ...                    ...              ...   \n",
      "109                 47                  Press               66   \n",
      "110                 40                  Press               45   \n",
      "111                 42                  Press               55   \n",
      "112                 48                  Press               47   \n",
      "113                 46                  Press               55   \n",
      "\n",
      "     defenceTeamWidthClass defenceDefenderLineClass  \n",
      "0                   Normal                    Cover  \n",
      "1                   Normal                    Cover  \n",
      "2                   Normal                    Cover  \n",
      "3                   Normal                    Cover  \n",
      "4                   Normal                    Cover  \n",
      "..                     ...                      ...  \n",
      "109                 Normal                    Cover  \n",
      "110                 Normal                    Cover  \n",
      "111                 Normal                    Cover  \n",
      "112                 Normal                    Cover  \n",
      "113                 Normal                    Cover  \n",
      "\n",
      "[114 rows x 25 columns]\n"
     ]
    }
   ],
   "source": [
    "print(df_team_attributes_bl_2014_to_2016)"
   ]
  },
  {
   "cell_type": "code",
   "execution_count": 8,
   "metadata": {
    "scrolled": true
   },
   "outputs": [
    {
     "name": "stdout",
     "output_type": "stream",
     "text": [
      "<class 'pandas.core.frame.DataFrame'>\n",
      "RangeIndex: 114 entries, 0 to 113\n",
      "Data columns (total 25 columns):\n",
      "id                                114 non-null int64\n",
      "team_fifa_api_id                  114 non-null int64\n",
      "team_api_id                       114 non-null int64\n",
      "date                              114 non-null object\n",
      "buildUpPlaySpeed                  114 non-null int64\n",
      "buildUpPlaySpeedClass             114 non-null object\n",
      "buildUpPlayDribbling              39 non-null float64\n",
      "buildUpPlayDribblingClass         114 non-null object\n",
      "buildUpPlayPassing                114 non-null int64\n",
      "buildUpPlayPassingClass           114 non-null object\n",
      "buildUpPlayPositioningClass       114 non-null object\n",
      "chanceCreationPassing             114 non-null int64\n",
      "chanceCreationPassingClass        114 non-null object\n",
      "chanceCreationCrossing            114 non-null int64\n",
      "chanceCreationCrossingClass       114 non-null object\n",
      "chanceCreationShooting            114 non-null int64\n",
      "chanceCreationShootingClass       114 non-null object\n",
      "chanceCreationPositioningClass    114 non-null object\n",
      "defencePressure                   114 non-null int64\n",
      "defencePressureClass              114 non-null object\n",
      "defenceAggression                 114 non-null int64\n",
      "defenceAggressionClass            114 non-null object\n",
      "defenceTeamWidth                  114 non-null int64\n",
      "defenceTeamWidthClass             114 non-null object\n",
      "defenceDefenderLineClass          114 non-null object\n",
      "dtypes: float64(1), int64(11), object(13)\n",
      "memory usage: 22.4+ KB\n"
     ]
    },
    {
     "data": {
      "text/plain": [
       "team_api_id\n",
       "8177     6\n",
       "8178     6\n",
       "8226     6\n",
       "8234     5\n",
       "8262     1\n",
       "8358     6\n",
       "8406     6\n",
       "8460     6\n",
       "8697     6\n",
       "8721     6\n",
       "8722     6\n",
       "9788     6\n",
       "9789     6\n",
       "9790     6\n",
       "9810     6\n",
       "9823     6\n",
       "9904     6\n",
       "9905     6\n",
       "10189    6\n",
       "10269    6\n",
       "dtype: int64"
      ]
     },
     "execution_count": 8,
     "metadata": {},
     "output_type": "execute_result"
    }
   ],
   "source": [
    "df_team_attributes_bl_2014_to_2016.info()\n",
    "\n",
    "df_team_attributes_bl_2014_to_2016.groupby('team_api_id').size()\n"
   ]
  }
 ],
 "metadata": {
  "kernelspec": {
   "display_name": "Python 3",
   "language": "python",
   "name": "python3"
  },
  "language_info": {
   "codemirror_mode": {
    "name": "ipython",
    "version": 3
   },
   "file_extension": ".py",
   "mimetype": "text/x-python",
   "name": "python",
   "nbconvert_exporter": "python",
   "pygments_lexer": "ipython3",
   "version": "3.7.4"
  }
 },
 "nbformat": 4,
 "nbformat_minor": 2
}
