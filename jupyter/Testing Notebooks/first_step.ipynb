{
 "cells": [
  {
   "cell_type": "code",
   "execution_count": 5,
   "metadata": {},
   "outputs": [
    {
     "name": "stdout",
     "output_type": "stream",
     "text": [
      "TensorFlow version: 2.0.0\n"
     ]
    }
   ],
   "source": [
    "import tensorflow as tf\n",
    "print (\"TensorFlow version: \" + tf.__version__)"
   ]
  },
  {
   "cell_type": "code",
   "execution_count": 9,
   "metadata": {},
   "outputs": [
    {
     "name": "stdout",
     "output_type": "stream",
     "text": [
      "tf.Tensor(b'Player_Attributes', shape=(), dtype=string)\n",
      "tf.Tensor(b'Player', shape=(), dtype=string)\n",
      "tf.Tensor(b'Match', shape=(), dtype=string)\n",
      "tf.Tensor(b'League', shape=(), dtype=string)\n",
      "tf.Tensor(b'Country', shape=(), dtype=string)\n",
      "tf.Tensor(b'Team', shape=(), dtype=string)\n",
      "tf.Tensor(b'Team_Attributes', shape=(), dtype=string)\n"
     ]
    }
   ],
   "source": [
    "tf.compat.v1.enable_eager_execution()\n",
    "\n",
    "dataset = tf.data.experimental.SqlDataset(\"sqlite\", \"../data/eusoccerdatabase.sqlite\",\n",
    "                                          \"SELECT name FROM sqlite_master WHERE type ='table' AND name NOT LIKE 'sqlite_%';\",\n",
    "                                          (tf.string))\n",
    "# Prints the rows of the result set of the above query.\n",
    "for element in dataset:\n",
    "  print(element)"
   ]
  },
  {
   "cell_type": "code",
   "execution_count": 15,
   "metadata": {},
   "outputs": [
    {
     "name": "stdout",
     "output_type": "stream",
     "text": [
      "(<tf.Tensor: id=60, shape=(), dtype=int32, numpy=1>, <tf.Tensor: id=61, shape=(), dtype=string, numpy=b'Belgium'>)\n",
      "(<tf.Tensor: id=62, shape=(), dtype=int32, numpy=1729>, <tf.Tensor: id=63, shape=(), dtype=string, numpy=b'England'>)\n",
      "(<tf.Tensor: id=64, shape=(), dtype=int32, numpy=4769>, <tf.Tensor: id=65, shape=(), dtype=string, numpy=b'France'>)\n",
      "(<tf.Tensor: id=66, shape=(), dtype=int32, numpy=7809>, <tf.Tensor: id=67, shape=(), dtype=string, numpy=b'Germany'>)\n",
      "(<tf.Tensor: id=68, shape=(), dtype=int32, numpy=10257>, <tf.Tensor: id=69, shape=(), dtype=string, numpy=b'Italy'>)\n",
      "(<tf.Tensor: id=70, shape=(), dtype=int32, numpy=13274>, <tf.Tensor: id=71, shape=(), dtype=string, numpy=b'Netherlands'>)\n",
      "(<tf.Tensor: id=72, shape=(), dtype=int32, numpy=15722>, <tf.Tensor: id=73, shape=(), dtype=string, numpy=b'Poland'>)\n",
      "(<tf.Tensor: id=74, shape=(), dtype=int32, numpy=17642>, <tf.Tensor: id=75, shape=(), dtype=string, numpy=b'Portugal'>)\n",
      "(<tf.Tensor: id=76, shape=(), dtype=int32, numpy=19694>, <tf.Tensor: id=77, shape=(), dtype=string, numpy=b'Scotland'>)\n",
      "(<tf.Tensor: id=78, shape=(), dtype=int32, numpy=21518>, <tf.Tensor: id=79, shape=(), dtype=string, numpy=b'Spain'>)\n",
      "(<tf.Tensor: id=80, shape=(), dtype=int32, numpy=24558>, <tf.Tensor: id=81, shape=(), dtype=string, numpy=b'Switzerland'>)\n"
     ]
    }
   ],
   "source": [
    "dataset = tf.data.experimental.SqlDataset(\"sqlite\", \"../data/eusoccerdatabase.sqlite\",\n",
    "                                          \"SELECT * FROM Country\",\n",
    "                                          (tf.int32, tf.string))\n",
    "# Prints the rows of the result set of the above query.\n",
    "for element in dataset:\n",
    "  print(element)\n"
   ]
  },
  {
   "cell_type": "code",
   "execution_count": null,
   "metadata": {},
   "outputs": [],
   "source": []
  }
 ],
 "metadata": {
  "kernelspec": {
   "display_name": "Python 3",
   "language": "python",
   "name": "python3"
  },
  "language_info": {
   "codemirror_mode": {
    "name": "ipython",
    "version": 3
   },
   "file_extension": ".py",
   "mimetype": "text/x-python",
   "name": "python",
   "nbconvert_exporter": "python",
   "pygments_lexer": "ipython3",
   "version": "3.7.4"
  }
 },
 "nbformat": 4,
 "nbformat_minor": 2
}
