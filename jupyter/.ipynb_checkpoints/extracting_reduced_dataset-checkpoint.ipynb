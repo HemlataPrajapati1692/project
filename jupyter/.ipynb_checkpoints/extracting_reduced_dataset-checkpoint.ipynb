{
 "cells": [
  {
   "cell_type": "code",
   "execution_count": 1,
   "metadata": {},
   "outputs": [],
   "source": [
    "import pandas as pd"
   ]
  },
  {
   "cell_type": "markdown",
   "metadata": {},
   "source": [
    "SELECT * FROM Match WHERE league_id = 7809 AND (season = '2014/2015' OR season = '2015/2016');"
   ]
  },
  {
   "cell_type": "code",
   "execution_count": 6,
   "metadata": {
    "scrolled": true
   },
   "outputs": [
    {
     "data": {
      "text/plain": [
       "id|country_id|league_id|season|stage|date|match_api_id|home_team_api_id|away_team_api_id|home_team_goal|away_team_goal|home_player_X1|home_player_X2|home_player_X3|home_player_X4|home_player_X5|home_player_X6|home_player_X7|home_player_X8|home_player_X9|home_player_X10|home_player_X11|away_player_X1|away_player_X2|away_player_X3|away_player_X4|away_player_X5|away_player_X6|away_player_X7|away_player_X8|away_player_X9|away_player_X10|away_player_X11|home_player_Y1|home_player_Y2|home_player_Y3|home_player_Y4|home_player_Y5|home_player_Y6|home_player_Y7|home_player_Y8|home_player_Y9|home_player_Y10|home_player_Y11|away_player_Y1|away_player_Y2|away_player_Y3|away_player_Y4|away_player_Y5|away_player_Y6|away_player_Y7|away_player_Y8|away_player_Y9|away_player_Y10|away_player_Y11|home_player_1|home_player_2|home_player_3|home_player_4|home_player_5|home_player_6|home_player_7|home_player_8|home_player_9|home_player_10|home_player_11|away_player_1|away_player_2|away_player_3|away_player_4|away_player_5|away_player_6|away_player_7|away_player_8|away_player_9|away_player_10|away_player_11|goal|shoton|shotoff|foulcommit|card|cross|corner|possession|B365H|B365D|B365A|BWH|BWD|BWA|IWH|IWD|IWA|LBH|LBD|LBA|PSH|PSD|PSA|WHH|WHD|WHA|SJH|SJD|SJA|VCH|VCD|VCA|GBH|GBD|GBA|BSH|BSD|BSA    object\n",
       "dtype: object"
      ]
     },
     "execution_count": 6,
     "metadata": {},
     "output_type": "execute_result"
    }
   ],
   "source": [
    "df_matches_bl_2014_to_2016 = pd.read_csv('../data/match_bundesliga_matches_2014_until_2016.csv')\n",
    "\n",
    "df_matches_bl_2014_to_2016.dtypes"
   ]
  },
  {
   "cell_type": "code",
   "execution_count": 9,
   "metadata": {
    "scrolled": true
   },
   "outputs": [
    {
     "name": "stdout",
     "output_type": "stream",
     "text": [
      "    id|country_id|league_id|season|stage|date|match_api_id|home_team_api_id|away_team_api_id|home_team_goal|away_team_goal|home_player_X1|home_player_X2|home_player_X3|home_player_X4|home_player_X5|home_player_X6|home_player_X7|home_player_X8|home_player_X9|home_player_X10|home_player_X11|away_player_X1|away_player_X2|away_player_X3|away_player_X4|away_player_X5|away_player_X6|away_player_X7|away_player_X8|away_player_X9|away_player_X10|away_player_X11|home_player_Y1|home_player_Y2|home_player_Y3|home_player_Y4|home_player_Y5|home_player_Y6|home_player_Y7|home_player_Y8|home_player_Y9|home_player_Y10|home_player_Y11|away_player_Y1|away_player_Y2|away_player_Y3|away_player_Y4|away_player_Y5|away_player_Y6|away_player_Y7|away_player_Y8|away_player_Y9|away_player_Y10|away_player_Y11|home_player_1|home_player_2|home_player_3|home_player_4|home_player_5|home_player_6|home_player_7|home_player_8|home_player_9|home_player_10|home_player_11|away_player_1|away_player_2|away_player_3|away_player_4|away_player_5|away_player_6|away_player_7|away_player_8|away_player_9|away_player_10|away_player_11|goal|shoton|shotoff|foulcommit|card|cross|corner|possession|B365H|B365D|B365A|BWH|BWD|BWA|IWH|IWD|IWA|LBH|LBD|LBA|PSH|PSD|PSA|WHH|WHD|WHA|SJH|SJD|SJA|VCH|VCD|VCA|GBH|GBD|GBA|BSH|BSD|BSA\n",
      "0    9645|7809|7809|2014/2015|1|2014-08-22 00:00:00...                                                                                                                                                                                                                                                                                                                                                                                                                                                                                                                                                                                                                                                                                                                                                                                                                                                                                                                                                                                                                                                                                                                                                                                                                                                                                  \n",
      "1    9646|7809|7809|2014/2015|1|2014-08-23 00:00:00...                                                                                                                                                                                                                                                                                                                                                                                                                                                                                                                                                                                                                                                                                                                                                                                                                                                                                                                                                                                                                                                                                                                                                                                                                                                                                  \n",
      "2    9647|7809|7809|2014/2015|1|2014-08-24 00:00:00...                                                                                                                                                                                                                                                                                                                                                                                                                                                                                                                                                                                                                                                                                                                                                                                                                                                                                                                                                                                                                                                                                                                                                                                                                                                                                  \n",
      "3    9648|7809|7809|2014/2015|1|2014-08-23 00:00:00...                                                                                                                                                                                                                                                                                                                                                                                                                                                                                                                                                                                                                                                                                                                                                                                                                                                                                                                                                                                                                                                                                                                                                                                                                                                                                  \n",
      "4    9649|7809|7809|2014/2015|1|2014-08-23 00:00:00...                                                                                                                                                                                                                                                                                                                                                                                                                                                                                                                                                                                                                                                                                                                                                                                                                                                                                                                                                                                                                                                                                                                                                                                                                                                                                  \n",
      "..                                                 ...                                                                                                                                                                                                                                                                                                                                                                                                                                                                                                                                                                                                                                                                                                                                                                                                                                                                                                                                                                                                                                                                                                                                                                                                                                                                                  \n",
      "607  10252|7809|7809|2015/2016|9|2015-10-17 00:00:0...                                                                                                                                                                                                                                                                                                                                                                                                                                                                                                                                                                                                                                                                                                                                                                                                                                                                                                                                                                                                                                                                                                                                                                                                                                                                                  \n",
      "608  10253|7809|7809|2015/2016|9|2015-10-17 00:00:0...                                                                                                                                                                                                                                                                                                                                                                                                                                                                                                                                                                                                                                                                                                                                                                                                                                                                                                                                                                                                                                                                                                                                                                                                                                                                                  \n",
      "609  10254|7809|7809|2015/2016|9|2015-10-17 00:00:0...                                                                                                                                                                                                                                                                                                                                                                                                                                                                                                                                                                                                                                                                                                                                                                                                                                                                                                                                                                                                                                                                                                                                                                                                                                                                                  \n",
      "610  10255|7809|7809|2015/2016|9|2015-10-18 00:00:0...                                                                                                                                                                                                                                                                                                                                                                                                                                                                                                                                                                                                                                                                                                                                                                                                                                                                                                                                                                                                                                                                                                                                                                                                                                                                                  \n",
      "611  10256|7809|7809|2015/2016|9|2015-10-16 00:00:0...                                                                                                                                                                                                                                                                                                                                                                                                                                                                                                                                                                                                                                                                                                                                                                                                                                                                                                                                                                                                                                                                                                                                                                                                                                                                                  \n",
      "\n",
      "[612 rows x 1 columns]\n"
     ]
    }
   ],
   "source": [
    "print(df_matches_bl_2014_to_2016)"
   ]
  },
  {
   "cell_type": "markdown",
   "metadata": {},
   "source": [
    "SELECT * FROM Team WHERE team_api_id IN (\n",
    "SELECT DISTINCT home_team_api_id FROM Match WHERE league_id = 7809 AND (season = '2014/2015' OR season = '2015/2016')\n",
    "UNION\n",
    "SELECT DISTINCT away_team_api_id FROM Match WHERE league_id = 7809 AND (season = '2014/2015' OR season = '2015/2016'));"
   ]
  },
  {
   "cell_type": "code",
   "execution_count": 11,
   "metadata": {},
   "outputs": [
    {
     "data": {
      "text/plain": [
       "id|team_api_id|team_fifa_api_id|team_long_name|team_short_name    object\n",
       "dtype: object"
      ]
     },
     "execution_count": 11,
     "metadata": {},
     "output_type": "execute_result"
    }
   ],
   "source": [
    "df_team_bl_2014_to_2016 = pd.read_csv('../data/team_bundesliga_2014_until_2016.csv')\n",
    "\n",
    "df_team_bl_2014_to_2016.dtypes"
   ]
  },
  {
   "cell_type": "code",
   "execution_count": 12,
   "metadata": {
    "scrolled": true
   },
   "outputs": [
    {
     "name": "stdout",
     "output_type": "stream",
     "text": [
      "   id|team_api_id|team_fifa_api_id|team_long_name|team_short_name\n",
      "0                  15617|9823|21|FC Bayern Munich|BMU            \n",
      "1                      15618|9790|28|Hamburger SV|HAM            \n",
      "2               15619|8178|32|Bayer 04 Leverkusen|LEV            \n",
      "3                 15620|9789|22|Borussia Dortmund|DOR            \n",
      "4                    15621|10189|34|FC Schalke 04|S04            \n",
      "5                      15622|9904|485|Hannover 96|HAN            \n",
      "6                    15623|8721|175|VfL Wolfsburg|WOL            \n",
      "7                        15624|8722|31|1. FC Köln|FCK            \n",
      "8             15625|9810|1824|Eintracht Frankfurt|EFR            \n",
      "9                15626|8177|166|Hertha BSC Berlin|HBE            \n",
      "10                 15628|8697|38|SV Werder Bremen|WBR            \n",
      "11           15630|8226|10029|TSG 1899 Hoffenheim|HOF            \n",
      "12         15631|9788|23|Borussia Mönchengladbach|GLA            \n",
      "13                   15632|10269|36|VfB Stuttgart|STU            \n",
      "14                      16237|8358|25|SC Freiburg|FRE            \n",
      "15                 16243|9905|169|1. FSV Mainz 05|MAI            \n",
      "16                  17465|8406|100409|FC Augsburg|AUG            \n",
      "17               19305|8460|10030|SC Paderborn 07|PAD            \n",
      "18             19916|8234|111239|FC Ingolstadt 04|ING            \n",
      "19              19917|8262|110502|SV Darmstadt 98|DAR            \n"
     ]
    }
   ],
   "source": [
    "print(df_team_bl_2014_to_2016)"
   ]
  },
  {
   "cell_type": "markdown",
   "metadata": {},
   "source": [
    "SELECT * FROM Team_Attributes WHERE team_api_id IN (\n",
    "SELECT DISTINCT home_team_api_id FROM Match WHERE league_id = 7809 AND (season = '2014/2015' OR season = '2015/2016')\n",
    "UNION\n",
    "SELECT DISTINCT away_team_api_id FROM Match WHERE league_id = 7809 AND (season = '2014/2015' OR season = '2015/2016'));"
   ]
  },
  {
   "cell_type": "code",
   "execution_count": 13,
   "metadata": {
    "scrolled": true
   },
   "outputs": [
    {
     "data": {
      "text/plain": [
       "id|team_fifa_api_id|team_api_id|date|buildUpPlaySpeed|buildUpPlaySpeedClass|buildUpPlayDribbling|buildUpPlayDribblingClass|buildUpPlayPassing|buildUpPlayPassingClass|buildUpPlayPositioningClass|chanceCreationPassing|chanceCreationPassingClass|chanceCreationCrossing|chanceCreationCrossingClass|chanceCreationShooting|chanceCreationShootingClass|chanceCreationPositioningClass|defencePressure|defencePressureClass|defenceAggression|defenceAggressionClass|defenceTeamWidth|defenceTeamWidthClass|defenceDefenderLineClass    object\n",
       "dtype: object"
      ]
     },
     "execution_count": 13,
     "metadata": {},
     "output_type": "execute_result"
    }
   ],
   "source": [
    "df_team_attributes_bl_2014_to_2016 = pd.read_csv('../data/team_attributes_bundesliga_2014_until_2016.csv')\n",
    "\n",
    "df_team_attributes_bl_2014_to_2016.dtypes"
   ]
  },
  {
   "cell_type": "code",
   "execution_count": 14,
   "metadata": {},
   "outputs": [
    {
     "name": "stdout",
     "output_type": "stream",
     "text": [
      "    id|team_fifa_api_id|team_api_id|date|buildUpPlaySpeed|buildUpPlaySpeedClass|buildUpPlayDribbling|buildUpPlayDribblingClass|buildUpPlayPassing|buildUpPlayPassingClass|buildUpPlayPositioningClass|chanceCreationPassing|chanceCreationPassingClass|chanceCreationCrossing|chanceCreationCrossingClass|chanceCreationShooting|chanceCreationShootingClass|chanceCreationPositioningClass|defencePressure|defencePressureClass|defenceAggression|defenceAggressionClass|defenceTeamWidth|defenceTeamWidthClass|defenceDefenderLineClass\n",
      "0    101|100409|8406|2010-02-22 00:00:00|45|Balance...                                                                                                                                                                                                                                                                                                                                                                                                                                                                                   \n",
      "1    102|100409|8406|2011-02-22 00:00:00|68|Fast||L...                                                                                                                                                                                                                                                                                                                                                                                                                                                                                   \n",
      "2    103|100409|8406|2012-02-22 00:00:00|55|Balance...                                                                                                                                                                                                                                                                                                                                                                                                                                                                                   \n",
      "3    104|100409|8406|2013-09-20 00:00:00|40|Balance...                                                                                                                                                                                                                                                                                                                                                                                                                                                                                   \n",
      "4    105|100409|8406|2014-09-19 00:00:00|62|Balance...                                                                                                                                                                                                                                                                                                                                                                                                                                                                                   \n",
      "..                                                 ...                                                                                                                                                                                                                                                                                                                                                                                                                                                                                   \n",
      "109  1416|175|8721|2011-02-22 00:00:00|65|Balanced|...                                                                                                                                                                                                                                                                                                                                                                                                                                                                                   \n",
      "110  1417|175|8721|2012-02-22 00:00:00|54|Balanced|...                                                                                                                                                                                                                                                                                                                                                                                                                                                                                   \n",
      "111  1418|175|8721|2013-09-20 00:00:00|58|Balanced|...                                                                                                                                                                                                                                                                                                                                                                                                                                                                                   \n",
      "112  1419|175|8721|2014-09-19 00:00:00|58|Balanced|...                                                                                                                                                                                                                                                                                                                                                                                                                                                                                   \n",
      "113  1420|175|8721|2015-09-10 00:00:00|68|Fast|45|N...                                                                                                                                                                                                                                                                                                                                                                                                                                                                                   \n",
      "\n",
      "[114 rows x 1 columns]\n"
     ]
    }
   ],
   "source": [
    "print(df_team_attributes_bl_2014_to_2016)"
   ]
  }
 ],
 "metadata": {
  "kernelspec": {
   "display_name": "Python 3",
   "language": "python",
   "name": "python3"
  },
  "language_info": {
   "codemirror_mode": {
    "name": "ipython",
    "version": 3
   },
   "file_extension": ".py",
   "mimetype": "text/x-python",
   "name": "python",
   "nbconvert_exporter": "python",
   "pygments_lexer": "ipython3",
   "version": "3.7.4"
  }
 },
 "nbformat": 4,
 "nbformat_minor": 2
}
